{
 "cells": [
  {
   "cell_type": "code",
   "execution_count": 1,
   "metadata": {},
   "outputs": [],
   "source": [
    "import numpy as np \n",
    "import pandas as pd\n",
    "from nltk.stem.porter import PorterStemmer\n",
    "import re\n",
    "from nltk.corpus import stopwords\n",
    "from gensim.models.word2vec import Word2Vec # the word2vec model gensim class\n",
    "import tensorflow as tf\n",
    "import gensim\n",
    "LabeledSentence = gensim.models.doc2vec.LabeledSentence\n",
    "from tqdm import tqdm\n",
    "import matplotlib.pyplot as plt"
   ]
  },
  {
   "cell_type": "markdown",
   "metadata": {},
   "source": [
    "## Reading data"
   ]
  },
  {
   "cell_type": "code",
   "execution_count": 2,
   "metadata": {},
   "outputs": [
    {
     "data": {
      "text/html": [
       "<div>\n",
       "<style scoped>\n",
       "    .dataframe tbody tr th:only-of-type {\n",
       "        vertical-align: middle;\n",
       "    }\n",
       "\n",
       "    .dataframe tbody tr th {\n",
       "        vertical-align: top;\n",
       "    }\n",
       "\n",
       "    .dataframe thead th {\n",
       "        text-align: right;\n",
       "    }\n",
       "</style>\n",
       "<table border=\"1\" class=\"dataframe\">\n",
       "  <thead>\n",
       "    <tr style=\"text-align: right;\">\n",
       "      <th></th>\n",
       "      <th>review</th>\n",
       "      <th>sentiment</th>\n",
       "    </tr>\n",
       "  </thead>\n",
       "  <tbody>\n",
       "    <tr>\n",
       "      <th>49995</th>\n",
       "      <td>OK, lets start with the best. the building. al...</td>\n",
       "      <td>0</td>\n",
       "    </tr>\n",
       "    <tr>\n",
       "      <th>49996</th>\n",
       "      <td>The British 'heritage film' industry is out of...</td>\n",
       "      <td>0</td>\n",
       "    </tr>\n",
       "    <tr>\n",
       "      <th>49997</th>\n",
       "      <td>I don't even know where to begin on this one. ...</td>\n",
       "      <td>0</td>\n",
       "    </tr>\n",
       "    <tr>\n",
       "      <th>49998</th>\n",
       "      <td>Richard Tyler is a little boy who is scared of...</td>\n",
       "      <td>0</td>\n",
       "    </tr>\n",
       "    <tr>\n",
       "      <th>49999</th>\n",
       "      <td>I waited long to watch this movie. Also becaus...</td>\n",
       "      <td>1</td>\n",
       "    </tr>\n",
       "  </tbody>\n",
       "</table>\n",
       "</div>"
      ],
      "text/plain": [
       "                                                  review  sentiment\n",
       "49995  OK, lets start with the best. the building. al...          0\n",
       "49996  The British 'heritage film' industry is out of...          0\n",
       "49997  I don't even know where to begin on this one. ...          0\n",
       "49998  Richard Tyler is a little boy who is scared of...          0\n",
       "49999  I waited long to watch this movie. Also becaus...          1"
      ]
     },
     "execution_count": 2,
     "metadata": {},
     "output_type": "execute_result"
    }
   ],
   "source": [
    "df = pd.read_csv('/home/luisernesto/Documents/MCSII/IntelligentSystem/work4/shuffled_movie_data.csv')\n",
    "df.tail()"
   ]
  },
  {
   "cell_type": "markdown",
   "metadata": {},
   "source": [
    "## Preparing data"
   ]
  },
  {
   "cell_type": "code",
   "execution_count": 3,
   "metadata": {},
   "outputs": [],
   "source": [
    "X = df.loc[:,'review'].values \n",
    "Y = df.loc[:,'sentiment'].values"
   ]
  },
  {
   "cell_type": "code",
   "execution_count": 4,
   "metadata": {},
   "outputs": [],
   "source": [
    "stop = stopwords.words('english')\n",
    "porter = PorterStemmer()\n",
    "\n",
    "def tokenizer(text):\n",
    "    text = re.sub('<[^>]*>', '', text)\n",
    "    emoticons = re.findall('(?::|;|=)(?:-)?(?:\\)|\\(|D|P)', text.lower())\n",
    "    text = re.sub('[\\W]+', ' ', text.lower()) + ' '.join(emoticons).replace('-', '')\n",
    "    text = [w for w in text.split() if w not in stop]\n",
    "    tokenized = [porter.stem(w) for w in text]\n",
    "    return text"
   ]
  },
  {
   "cell_type": "code",
   "execution_count": 5,
   "metadata": {},
   "outputs": [],
   "source": [
    "def tokenizer_start(data):\n",
    "    for i in range (0,data.shape[0]):\n",
    "        wordList = tokenizer(data[i])\n",
    "        data[i] = wordList"
   ]
  },
  {
   "cell_type": "markdown",
   "metadata": {},
   "source": [
    "### tokenizing reviews "
   ]
  },
  {
   "cell_type": "code",
   "execution_count": 6,
   "metadata": {},
   "outputs": [],
   "source": [
    "tokenizer_start(X)"
   ]
  },
  {
   "cell_type": "code",
   "execution_count": 7,
   "metadata": {},
   "outputs": [
    {
     "data": {
      "text/plain": [
       "['1974',\n",
       " 'teenager',\n",
       " 'martha',\n",
       " 'moxley',\n",
       " 'maggie',\n",
       " 'grace',\n",
       " 'moves',\n",
       " 'high',\n",
       " 'class',\n",
       " 'area',\n",
       " 'belle',\n",
       " 'greenwich',\n",
       " 'connecticut',\n",
       " 'mischief',\n",
       " 'night',\n",
       " 'eve',\n",
       " 'halloween',\n",
       " 'murdered',\n",
       " 'backyard',\n",
       " 'house',\n",
       " 'murder',\n",
       " 'remained',\n",
       " 'unsolved',\n",
       " 'twenty',\n",
       " 'two',\n",
       " 'years',\n",
       " 'later',\n",
       " 'writer',\n",
       " 'mark',\n",
       " 'fuhrman',\n",
       " 'christopher',\n",
       " 'meloni',\n",
       " 'former',\n",
       " 'la',\n",
       " 'detective',\n",
       " 'fallen',\n",
       " 'disgrace',\n",
       " 'perjury',\n",
       " 'j',\n",
       " 'simpson',\n",
       " 'trial',\n",
       " 'moved',\n",
       " 'idaho',\n",
       " 'decides',\n",
       " 'investigate',\n",
       " 'case',\n",
       " 'partner',\n",
       " 'stephen',\n",
       " 'weeks',\n",
       " 'andrew',\n",
       " 'mitchell',\n",
       " 'purpose',\n",
       " 'writing',\n",
       " 'book',\n",
       " 'locals',\n",
       " 'squirm',\n",
       " 'welcome',\n",
       " 'support',\n",
       " 'retired',\n",
       " 'detective',\n",
       " 'steve',\n",
       " 'carroll',\n",
       " 'robert',\n",
       " 'forster',\n",
       " 'charge',\n",
       " 'investigation',\n",
       " '70',\n",
       " 'discover',\n",
       " 'criminal',\n",
       " 'net',\n",
       " 'power',\n",
       " 'money',\n",
       " 'cover',\n",
       " 'murder',\n",
       " 'murder',\n",
       " 'greenwich',\n",
       " 'good',\n",
       " 'tv',\n",
       " 'movie',\n",
       " 'true',\n",
       " 'story',\n",
       " 'murder',\n",
       " 'fifteen',\n",
       " 'years',\n",
       " 'old',\n",
       " 'girl',\n",
       " 'committed',\n",
       " 'wealthy',\n",
       " 'teenager',\n",
       " 'whose',\n",
       " 'mother',\n",
       " 'kennedy',\n",
       " 'powerful',\n",
       " 'rich',\n",
       " 'family',\n",
       " 'used',\n",
       " 'influence',\n",
       " 'cover',\n",
       " 'murder',\n",
       " 'twenty',\n",
       " 'years',\n",
       " 'however',\n",
       " 'snoopy',\n",
       " 'detective',\n",
       " 'convicted',\n",
       " 'perjurer',\n",
       " 'disgrace',\n",
       " 'able',\n",
       " 'disclose',\n",
       " 'hideous',\n",
       " 'crime',\n",
       " 'committed',\n",
       " 'screenplay',\n",
       " 'shows',\n",
       " 'investigation',\n",
       " 'mark',\n",
       " 'last',\n",
       " 'days',\n",
       " 'martha',\n",
       " 'parallel',\n",
       " 'lack',\n",
       " 'emotion',\n",
       " 'dramatization',\n",
       " 'vote',\n",
       " 'seven',\n",
       " 'title',\n",
       " 'brazil',\n",
       " 'available']"
      ]
     },
     "execution_count": 7,
     "metadata": {},
     "output_type": "execute_result"
    }
   ],
   "source": [
    "X[0]"
   ]
  },
  {
   "cell_type": "markdown",
   "metadata": {},
   "source": [
    "### Train and test Data "
   ]
  },
  {
   "cell_type": "code",
   "execution_count": 8,
   "metadata": {},
   "outputs": [],
   "source": [
    "xTrain = X[0:40000]\n",
    "xTest = X[40000:50000]\n",
    "yTrain = Y[0:40000].astype(np.float32)\n",
    "yTest = Y[40000:50000].astype(np.float32)"
   ]
  },
  {
   "cell_type": "markdown",
   "metadata": {},
   "source": [
    "### Embedding reviews "
   ]
  },
  {
   "cell_type": "markdown",
   "metadata": {},
   "source": [
    "We calculate the average number of words in all the reviews"
   ]
  },
  {
   "cell_type": "code",
   "execution_count": 9,
   "metadata": {},
   "outputs": [],
   "source": [
    "numWords = []\n",
    "for x in xTrain:\n",
    "    count = len(x)\n",
    "    numWords.append(count)\n",
    "mean = np.mean(numWords)"
   ]
  },
  {
   "cell_type": "code",
   "execution_count": 10,
   "metadata": {},
   "outputs": [
    {
     "data": {
      "text/plain": [
       "(55670293, 59792260)"
      ]
     },
     "execution_count": 10,
     "metadata": {},
     "output_type": "execute_result"
    }
   ],
   "source": [
    "W2V = Word2Vec(size=int(mean), min_count=10)\n",
    "W2V.build_vocab(X)\n",
    "W2V.train(X,total_examples=len(X),epochs=10)"
   ]
  },
  {
   "cell_type": "code",
   "execution_count": 11,
   "metadata": {},
   "outputs": [
    {
     "name": "stderr",
     "output_type": "stream",
     "text": [
      "/home/luisernesto/yes/envs/python7.1/lib/python3.6/site-packages/ipykernel_launcher.py:1: DeprecationWarning: Call to deprecated `most_similar` (Method will be removed in 4.0.0, use self.wv.most_similar() instead).\n",
      "  \"\"\"Entry point for launching an IPython kernel.\n"
     ]
    },
    {
     "data": {
      "text/plain": [
       "[('decent', 0.7566466927528381),\n",
       " ('great', 0.7416751384735107),\n",
       " ('bad', 0.6972256898880005),\n",
       " ('alright', 0.6910918354988098),\n",
       " ('ok', 0.6368938684463501),\n",
       " ('nice', 0.628466784954071),\n",
       " ('okay', 0.6031026840209961),\n",
       " ('fine', 0.5868966579437256),\n",
       " ('excellent', 0.5729685425758362),\n",
       " ('lousy', 0.5646825432777405)]"
      ]
     },
     "execution_count": 11,
     "metadata": {},
     "output_type": "execute_result"
    }
   ],
   "source": [
    "W2V.most_similar('good')"
   ]
  },
  {
   "cell_type": "markdown",
   "metadata": {},
   "source": [
    "### Histogram of number words in the reviews "
   ]
  },
  {
   "cell_type": "code",
   "execution_count": 12,
   "metadata": {},
   "outputs": [
    {
     "data": {
      "image/png": "[encoded data removed]",
      "text/plain": [
       "<Figure size 432x288 with 1 Axes>"
      ]
     },
     "metadata": {
      "needs_background": "light"
     },
     "output_type": "display_data"
    }
   ],
   "source": [
    "plt.hist(numWords, 50)\n",
    "plt.xlabel('Sequence Length')\n",
    "plt.ylabel('Frequency')\n",
    "plt.axis([0, 1200, 0, 8000])\n",
    "plt.show()"
   ]
  },
  {
   "cell_type": "markdown",
   "metadata": {},
   "source": [
    "### Calculate the average of words in a review "
   ]
  },
  {
   "cell_type": "code",
   "execution_count": 13,
   "metadata": {},
   "outputs": [],
   "source": [
    "# Function to calculate the average of all word vectors in a review\n",
    "def featureVecMethod(words, model, num_features):\n",
    "    # Pre-initialising empty numpy array for speed\n",
    "    featureVec = np.zeros(num_features,dtype=\"float32\")\n",
    "    nwords = 0\n",
    "    \n",
    "    #Converting Index2Word which is a list to a set for better speed in the execution.\n",
    "    index2word_set = set(model.wv.index2word)\n",
    "    \n",
    "    for word in  words:\n",
    "        if word in index2word_set:\n",
    "            nwords = nwords + 1\n",
    "            featureVec = np.add(featureVec,model[word])\n",
    "    \n",
    "    # Dividing the result by number of words to get average\n",
    "    featureVec = np.divide(featureVec, nwords)\n",
    "    return featureVec\n",
    "\n",
    "# Function for calculating the average feature vector\n",
    "def getAvgFeatureVecs(reviews, model, num_features):\n",
    "    counter = 0\n",
    "    reviewFeatureVecs = np.zeros((len(reviews),num_features),dtype=\"float32\")\n",
    "    for review in reviews:\n",
    "        # Printing a status message every 1000th review\n",
    "        if counter%1000 == 0:\n",
    "            print(\"Review %d of %d\"%(counter,len(reviews)))\n",
    "            \n",
    "        reviewFeatureVecs[counter] = featureVecMethod(review, model, num_features)\n",
    "        counter = counter+1\n",
    "        \n",
    "    return reviewFeatureVecs"
   ]
  },
  {
   "cell_type": "code",
   "execution_count": 14,
   "metadata": {},
   "outputs": [
    {
     "name": "stdout",
     "output_type": "stream",
     "text": [
      "Train data\n",
      "Review 0 of 40000\n"
     ]
    },
    {
     "name": "stderr",
     "output_type": "stream",
     "text": [
      "/home/luisernesto/yes/envs/python7.1/lib/python3.6/site-packages/ipykernel_launcher.py:13: DeprecationWarning: Call to deprecated `__getitem__` (Method will be removed in 4.0.0, use self.wv.__getitem__() instead).\n",
      "  del sys.path[0]\n"
     ]
    },
    {
     "name": "stdout",
     "output_type": "stream",
     "text": [
      "Review 1000 of 40000\n",
      "Review 2000 of 40000\n",
      "Review 3000 of 40000\n",
      "Review 4000 of 40000\n",
      "Review 5000 of 40000\n",
      "Review 6000 of 40000\n",
      "Review 7000 of 40000\n",
      "Review 8000 of 40000\n",
      "Review 9000 of 40000\n",
      "Review 10000 of 40000\n",
      "Review 11000 of 40000\n",
      "Review 12000 of 40000\n",
      "Review 13000 of 40000\n",
      "Review 14000 of 40000\n",
      "Review 15000 of 40000\n",
      "Review 16000 of 40000\n",
      "Review 17000 of 40000\n",
      "Review 18000 of 40000\n",
      "Review 19000 of 40000\n",
      "Review 20000 of 40000\n",
      "Review 21000 of 40000\n",
      "Review 22000 of 40000\n",
      "Review 23000 of 40000\n",
      "Review 24000 of 40000\n",
      "Review 25000 of 40000\n",
      "Review 26000 of 40000\n",
      "Review 27000 of 40000\n",
      "Review 28000 of 40000\n",
      "Review 29000 of 40000\n",
      "Review 30000 of 40000\n",
      "Review 31000 of 40000\n",
      "Review 32000 of 40000\n",
      "Review 33000 of 40000\n",
      "Review 34000 of 40000\n",
      "Review 35000 of 40000\n",
      "Review 36000 of 40000\n",
      "Review 37000 of 40000\n",
      "Review 38000 of 40000\n",
      "Review 39000 of 40000\n",
      "Test data\n",
      "Review 0 of 10000\n",
      "Review 1000 of 10000\n",
      "Review 2000 of 10000\n",
      "Review 3000 of 10000\n",
      "Review 4000 of 10000\n",
      "Review 5000 of 10000\n",
      "Review 6000 of 10000\n",
      "Review 7000 of 10000\n",
      "Review 8000 of 10000\n",
      "Review 9000 of 10000\n"
     ]
    }
   ],
   "source": [
    "print(\"Train data\")\n",
    "trainDataVecs = getAvgFeatureVecs(xTrain, W2V, int(mean))\n",
    "print(\"Test data\")\n",
    "testDataVecs = getAvgFeatureVecs(xTest, W2V, int(mean))"
   ]
  },
  {
   "cell_type": "markdown",
   "metadata": {},
   "source": [
    "## LTSM and GRU with TensorFlow "
   ]
  },
  {
   "cell_type": "markdown",
   "metadata": {},
   "source": [
    "### Parameters "
   ]
  },
  {
   "cell_type": "code",
   "execution_count": 28,
   "metadata": {},
   "outputs": [],
   "source": [
    "learning_rate = np.power(10.0,-2.0)\n",
    "training_steps = 20000\n",
    "batch_size = 1000\n",
    "display_step = 1000\n",
    "num_input = 119\n",
    "timesteps = 1\n",
    "num_units = 119\n",
    "num_classes = 1\n",
    "num_layers = 9"
   ]
  },
  {
   "cell_type": "markdown",
   "metadata": {},
   "source": [
    "### Implement bidirectional and multilayer LTSM RNN"
   ]
  },
  {
   "cell_type": "code",
   "execution_count": 29,
   "metadata": {},
   "outputs": [],
   "source": [
    "tf.reset_default_graph()\n",
    "\n",
    "X = tf.placeholder(\"float\", [None, timesteps,num_input])\n",
    "Y = tf.placeholder(\"float\", [None,num_classes])\n",
    "\n",
    "keep_prob = 1.0\n",
    "\n",
    "weights = {\n",
    "    'out': tf.Variable(tf.random_normal([num_units, num_classes]))\n",
    "}\n",
    "biases = {\n",
    "    'out': tf.Variable(tf.random_normal([num_classes]))\n",
    "}\n",
    "initializer = tf.random_uniform_initializer(-1, 1)\n",
    "def RNN(x, weights, biases):\n",
    "    outputs = x\n",
    "    #track through the layers\n",
    "    for layer in range(num_layers):\n",
    "        with tf.variable_scope('encoder_{}'.format(layer),reuse=tf.AUTO_REUSE):\n",
    "            \n",
    "            #forward cells\n",
    "            cell_fw = tf.contrib.rnn.LSTMCell(num_units,initializer=initializer)\n",
    "            cell_fw = tf.contrib.rnn.DropoutWrapper(cell_fw, input_keep_prob = keep_prob)\n",
    "            #backward cells\n",
    "            cell_bw = tf.contrib.rnn.LSTMCell(num_units,initializer=initializer)\n",
    "            cell_bw = tf.contrib.rnn.DropoutWrapper(cell_bw, input_keep_prob = keep_prob)\n",
    "\n",
    "            (output_fw, output_bw), last_state = tf.nn.bidirectional_dynamic_rnn(cell_fw,cell_bw, outputs,dtype=tf.float32)\n",
    "            state = last_state\n",
    "            \n",
    "    rnn_outputs_fw = tf.reshape(output_fw, [-1, num_units])\n",
    "    rnn_outputs_bw = tf.reshape(output_bw, [-1, num_units])\n",
    "    out_fw = tf.matmul(rnn_outputs_fw, weights['out']) + biases['out']\n",
    "    out_bw = tf.matmul(rnn_outputs_bw, weights['out']) + biases['out']\n",
    "    return np.add(out_fw,out_bw)\n",
    "\n",
    "logits = RNN(X, weights, biases)\n",
    "\n",
    "prediction = tf.nn.sigmoid(logits)\n",
    "\n",
    "loss_op = tf.reduce_mean(tf.nn.sigmoid_cross_entropy_with_logits(\n",
    "    logits=logits, labels=Y))\n",
    "optimizer = tf.train.GradientDescentOptimizer(learning_rate=learning_rate)\n",
    "#calculate gradients \n",
    "gvs = optimizer.compute_gradients(loss_op)\n",
    "\n",
    "#clipping gradients \n",
    "def ClipIfNotNone(grad):\n",
    "    if grad is None:\n",
    "        return grad\n",
    "    return tf.clip_by_value(grad, -1, 1)\n",
    "capped = [(ClipIfNotNone(grad),var) for grad,var in gvs]\n",
    "train_op = optimizer.apply_gradients(capped)\n",
    "optimizer.minimize(loss_op)\n",
    "\n",
    "p5 = tf.constant(0.5)\n",
    "delta = tf.abs((Y - prediction))\n",
    "correct_prediction = tf.cast(tf.less(delta, p5), tf.int32)\n",
    "\n",
    "#calculate accuracy\n",
    "accuracy = tf.reduce_mean(tf.cast(correct_prediction, tf.float32))\n",
    "\n",
    "init = tf.global_variables_initializer()"
   ]
  },
  {
   "cell_type": "markdown",
   "metadata": {},
   "source": [
    "## Start session "
   ]
  },
  {
   "cell_type": "code",
   "execution_count": 30,
   "metadata": {},
   "outputs": [],
   "source": [
    "accuracyTraining = []\n",
    "lossTraining = []\n",
    "steps = []\n",
    "def startSession():\n",
    "    with tf.Session() as sess:\n",
    "        sess.run(init)\n",
    "        count = 0\n",
    "        startData = 0\n",
    "        endData = batch_size\n",
    "        \n",
    "        test_len = 10000\n",
    "        test_data = testDataVecs[:,:].reshape((-1, timesteps, num_input))\n",
    "        test_label = yTest[:].reshape((10000,1))\n",
    "        \n",
    "        for step in range(1, training_steps+1):\n",
    "            count+=1\n",
    "            batch_x = trainDataVecs[startData:endData,:]\n",
    "            batch_y = yTrain[startData:endData]\n",
    "            batch_x = batch_x.reshape((batch_size, timesteps, num_input))\n",
    "            batch_y = batch_y.reshape((batch_size,1))\n",
    "            batch_y[:,:].astype(float)\n",
    "            sess.run(train_op, feed_dict={X: batch_x, Y: batch_y})\n",
    "            \n",
    "            if step % display_step == 0 or step == 1:\n",
    "                loss, acc = sess.run([loss_op, accuracy], feed_dict={X: batch_x,\n",
    "                                                                     Y: batch_y})\n",
    "                print(\"Step \" + str(step) + \", Minibatch Loss= \" + \\\n",
    "                      \"{:.4f}\".format(loss) + \", Training Accuracy= \" + \\\n",
    "                      \"{:.3f}\".format(acc))\n",
    "\n",
    "                lossTraining.append(loss)\n",
    "                steps.append(step)\n",
    "                accu = sess.run(accuracy, feed_dict={X: test_data, Y: test_label})\n",
    "                print(\"Testing Accuracy: \", accu)\n",
    "                accuracyTraining.append(accu)\n",
    "            if(endData<trainDataVecs.shape[0]):\n",
    "                startData=count*batch_size\n",
    "                endData = (count+1)*batch_size\n",
    "            else:\n",
    "                count=0\n",
    "                startData = 0\n",
    "                endData = batch_size\n",
    "        print(\"Optimization Finished!\")"
   ]
  },
  {
   "cell_type": "markdown",
   "metadata": {},
   "source": [
    "### Results "
   ]
  },
  {
   "cell_type": "code",
   "execution_count": 31,
   "metadata": {},
   "outputs": [
    {
     "name": "stdout",
     "output_type": "stream",
     "text": [
      "**********LTSM***********\n",
      "Step 1, Minibatch Loss= 1.0299, Training Accuracy= 0.574\n",
      "Testing Accuracy:  0.5697\n",
      "Step 1000, Minibatch Loss= 0.5347, Training Accuracy= 0.783\n",
      "Testing Accuracy:  0.7725\n",
      "Step 2000, Minibatch Loss= 0.4734, Training Accuracy= 0.808\n",
      "Testing Accuracy:  0.8016\n",
      "Step 3000, Minibatch Loss= 0.4421, Training Accuracy= 0.822\n",
      "Testing Accuracy:  0.819\n",
      "Step 4000, Minibatch Loss= 0.4219, Training Accuracy= 0.823\n",
      "Testing Accuracy:  0.8277\n",
      "Step 5000, Minibatch Loss= 0.4073, Training Accuracy= 0.832\n",
      "Testing Accuracy:  0.8336\n",
      "Step 6000, Minibatch Loss= 0.3961, Training Accuracy= 0.835\n",
      "Testing Accuracy:  0.8369\n",
      "Step 7000, Minibatch Loss= 0.3872, Training Accuracy= 0.842\n",
      "Testing Accuracy:  0.8411\n",
      "Step 8000, Minibatch Loss= 0.3799, Training Accuracy= 0.844\n",
      "Testing Accuracy:  0.8439\n",
      "Step 9000, Minibatch Loss= 0.3738, Training Accuracy= 0.850\n",
      "Testing Accuracy:  0.8468\n",
      "Step 10000, Minibatch Loss= 0.3686, Training Accuracy= 0.852\n",
      "Testing Accuracy:  0.848\n",
      "Step 11000, Minibatch Loss= 0.3640, Training Accuracy= 0.855\n",
      "Testing Accuracy:  0.8506\n",
      "Step 12000, Minibatch Loss= 0.3600, Training Accuracy= 0.856\n",
      "Testing Accuracy:  0.853\n",
      "Step 13000, Minibatch Loss= 0.3565, Training Accuracy= 0.855\n",
      "Testing Accuracy:  0.854\n",
      "Step 14000, Minibatch Loss= 0.3533, Training Accuracy= 0.858\n",
      "Testing Accuracy:  0.855\n",
      "Step 15000, Minibatch Loss= 0.3504, Training Accuracy= 0.858\n",
      "Testing Accuracy:  0.8556\n",
      "Step 16000, Minibatch Loss= 0.3478, Training Accuracy= 0.859\n",
      "Testing Accuracy:  0.8563\n",
      "Step 17000, Minibatch Loss= 0.3454, Training Accuracy= 0.858\n",
      "Testing Accuracy:  0.8575\n",
      "Step 18000, Minibatch Loss= 0.3432, Training Accuracy= 0.858\n",
      "Testing Accuracy:  0.8585\n",
      "Step 19000, Minibatch Loss= 0.3412, Training Accuracy= 0.858\n",
      "Testing Accuracy:  0.859\n",
      "Step 20000, Minibatch Loss= 0.3393, Training Accuracy= 0.859\n",
      "Testing Accuracy:  0.8594\n",
      "Optimization Finished!\n"
     ]
    }
   ],
   "source": [
    "print(\"**********LTSM***********\")\n",
    "startSession()\n",
    "ltsm_loss_training = lossTraining\n",
    "ltsm_accuracy = accuracyTraining"
   ]
  },
  {
   "cell_type": "code",
   "execution_count": 33,
   "metadata": {},
   "outputs": [
    {
     "data": {
      "image/png": "[encoded data removed]",
      "text/plain": [
       "<Figure size 432x288 with 1 Axes>"
      ]
     },
     "metadata": {
      "needs_background": "light"
     },
     "output_type": "display_data"
    }
   ],
   "source": [
    "plt.xlabel('Step')\n",
    "plt.ylabel('Testing Accuracy')\n",
    "plt.plot(steps, ltsm_accuracy,label = 'Accuracy LSTM')\n",
    "plt.legend()\n",
    "plt.show()"
   ]
  },
  {
   "cell_type": "code",
   "execution_count": 34,
   "metadata": {},
   "outputs": [
    {
     "data": {
      "image/png": "[encoded data removed]",
      "text/plain": [
       "<Figure size 432x288 with 1 Axes>"
      ]
     },
     "metadata": {
      "needs_background": "light"
     },
     "output_type": "display_data"
    }
   ],
   "source": [
    "plt.xlabel('Step')\n",
    "plt.ylabel('Training Loss')\n",
    "plt.plot(steps, ltsm_loss_training,label = 'loss LSTM')\n",
    "plt.legend()\n",
    "plt.show()"
   ]
  },
  {
   "cell_type": "code",
   "execution_count": 38,
   "metadata": {},
   "outputs": [
    {
     "name": "stdout",
     "output_type": "stream",
     "text": [
      "Accuracy:  0.8594\n"
     ]
    }
   ],
   "source": [
    "print(\"Accuracy: \",ltsm_accuracy[int(training_steps/display_step)])"
   ]
  }
 ],
 "metadata": {
  "kernelspec": {
   "display_name": "Python 3",
   "language": "python",
   "name": "python3"
  },
  "language_info": {
   "codemirror_mode": {
    "name": "ipython",
    "version": 3
   },
   "file_extension": ".py",
   "mimetype": "text/x-python",
   "name": "python",
   "nbconvert_exporter": "python",
   "pygments_lexer": "ipython3",
   "version": "3.6.6"
  }
 },
 "nbformat": 4,
 "nbformat_minor": 2
}
